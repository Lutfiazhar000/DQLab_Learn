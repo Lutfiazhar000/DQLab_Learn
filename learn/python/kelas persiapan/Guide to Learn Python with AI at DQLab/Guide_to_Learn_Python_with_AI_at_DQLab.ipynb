{
  "nbformat": 4,
  "nbformat_minor": 0,
  "metadata": {
    "colab": {
      "provenance": []
    },
    "kernelspec": {
      "name": "python3",
      "display_name": "Python 3"
    },
    "language_info": {
      "name": "python"
    }
  },
  "cells": [
    {
      "cell_type": "markdown",
      "source": [
        "#Guide to Learn Python with AI at DQLab"
      ],
      "metadata": {
        "id": "hdAHKWZyssVJ"
      }
    },
    {
      "cell_type": "markdown",
      "source": [
        "##Apa dan Kenapa Belajar di DQLab?"
      ],
      "metadata": {
        "id": "5IxDdHbotP2F"
      }
    },
    {
      "cell_type": "markdown",
      "source": [
        "###Metode Belajar dengan AI\n",
        "\n",
        "Kami senang Anda bergabung di DQLab.id, platform belajar online yang menyediakan berbagai kursus dan pelatihan di bidang data science dan AI. DQLab menghadirkan metode HERO pada seluruh kursus dan modulnya untuk membantu Anda belajar dengan nyaman dan efektif.\n",
        "\n",
        "* ***H***ands-on (Praktek Langsung)\n",
        "> Praktek Langsung merupakan prinsip utama pada metode HERO di DQLab untuk setiap modul Python. Fokus pada praktek langsung mencapai 80% dari pembelajaran, sehingga membuat Anda lebih siap untuk menerapkan keterampilan di dunia kerja. Dengan begitu, manfaatnya sangat besar bagi perkembangan kemampuan Anda dalam bidang data science dan AI.\n",
        "* ***E***xperiential Lea***r***ning (Belajar melalui Pengalaman)\n",
        "> DQLab memahami pentingnya pembelajaran melalui pengalaman. Untuk itu, DQLab menyediakan fitur Live Code Editor dengan soal praktek yang memberikan feedback langsung sehingga Anda dapat memahami mana yang bekerja dan tidak. Anda juga akan ditemani oleh chatbot AI yang membantu memberikan penjelasan pada setiap modul. Selain itu, setiap modul disusun dengan alur cerita yang sederhana untuk memudahkan pemahaman.\n",
        "* ***O***utcome-based (Fokus pada Output)\n",
        "> Setiap modul bertujuan untuk menghasilkan sesuatu setelah Anda menyelesaikannya, seperti chart sederhana atau model machine learning yang dapat diterapkan di dunia e-commerce. Dengan demikian, manfaatnya sangat besar bagi perkembangan keterampilan Anda."
      ],
      "metadata": {
        "id": "ecmGJbenxpEk"
      }
    },
    {
      "cell_type": "markdown",
      "source": [
        "###Kenapa Belajar Data harus Coding?\n",
        "\n",
        "Jawaban kami adalah keterampilan coding sangat penting untuk profesi data, baik data analyst, data engineer maupun data scientist karena mereka biasanya bekerja dengan data dengan volume atau variasi yang besar dan kompleks.\n",
        "\n",
        "Berikut adalah beberapa alasan mengapa keterampilan coding sangat penting bagi kita:\n",
        "\n",
        "1. ***Transformasi*** Data: Ini terutama untuk data engineer dimana profesi ini perlu membersihkan dan merubah struktur isi dan format data sebelum dapat dianalisa lebih lanjut. Data scientist dan data analyst sering sekali juga perlu menguasai kemampuan ini.\n",
        "2. ***Analisis Data***: Setelah data telah dibersihkan dan dibangun strukturnya, data scientist dan data analyst perlu menggunakan model statistik dan algoritma machine learning untuk menganalisis data dan menghasilkan informasi bernilai tinggi. Algoritma-algoritma yang digunakan ini sering memerlukan keterampilan coding untuk menerapkannya dan mengoptimalkannya.\n",
        "3. ***Otomatisasi***: Analis data dan ilmuwan data sering bekerja dengan dataset yang besar yang memerlukan tugas yang repetitif seperti data cleansing atau pembersihan data, visualisasi data, dan membuat laporan. Keterampilan coding memungkinkan para profesional ini untuk mengotomatisasi tugas-tugas ini menggunakan script yang dibuat dengan bahasa pemrograman tertentu, menghemat waktu mereka untuk analisis dan pengambilan keputusan yang lebih kompleks.\n",
        "4. ***Kolaborasi***: Analis data dan ilmuwan data bekerja dalam tim dengan profesional lain, seperti developer, ui/ux/visual designer, dan project manager. Keterampilan coding memungkinkan mereka untuk berkolaborasi secara efektif dengan tim ini, karena mereka dapat berkomunikasi menggunakan bahasa pemrograman maupun tool umum."
      ],
      "metadata": {
        "id": "574C5uNHzjYC"
      }
    },
    {
      "cell_type": "markdown",
      "source": [
        "###Mengenal Live Code Editor\n",
        "\n",
        "Live Code Editor (LCE) adalah fitur belajar yang sedang Anda gunakan saat ini."
      ],
      "metadata": {
        "id": "KOcAzaO0txgI"
      }
    },
    {
      "cell_type": "code",
      "source": [
        "print(\"Mari kita cetak character art berbentuk segitiga\")\n",
        "for i in range(1, 6):\n",
        "    print('*' * i)"
      ],
      "metadata": {
        "id": "PjWDAxE2tLIP"
      },
      "execution_count": null,
      "outputs": []
    },
    {
      "cell_type": "markdown",
      "source": [
        "###Praktek bersama AI\n",
        "\n",
        "Seperti yang dijelaskan pada materi sebelumnya, pada Live Code Editor kita dapat memasukkan kode Python yang diminta dalam soal, mengeksekusinya, dan meminta penjelasan dari chatbot AI."
      ],
      "metadata": {
        "id": "C_6CHxdXukkw"
      }
    },
    {
      "cell_type": "code",
      "source": [
        "print(\"Mari kita cetak character art berbentuk segitiga\")\n",
        "for i in range(1, 6):\n",
        "    print('*' * i)"
      ],
      "metadata": {
        "id": "Xjr6VOwaumVR"
      },
      "execution_count": null,
      "outputs": []
    },
    {
      "cell_type": "markdown",
      "source": [
        "###Belajar melalui Error\n",
        "\n",
        "Mengalami error saat belajar sebenarnya merupakan pengalaman berharga, karena Anda dapat belajar mengenali dan mengatasinya, yang pada akhirnya membuat nilai Anda semakin berharga."
      ],
      "metadata": {
        "id": "OMR3OGXYu5wK"
      }
    },
    {
      "cell_type": "code",
      "source": [
        "print(\"Mari kita cetak character art berbentuk segitiga\")\n",
        "for i in range(1, 6):\n",
        "    print(* * i)"
      ],
      "metadata": {
        "id": "Edhe3i-Euor8"
      },
      "execution_count": null,
      "outputs": []
    },
    {
      "cell_type": "markdown",
      "source": [
        "##Sistem Penilaian DQLab\n",
        "\n"
      ],
      "metadata": {
        "id": "hoY4M9wkvBrx"
      }
    },
    {
      "cell_type": "markdown",
      "source": [
        "###Pengenalan Sistem Penilaian DQLab\n",
        "\n",
        "Sistem penilaian di DQLab berdasarkan pada point, yang dapat bertambah atau berkurang tergantung pada aktivitas belajar dan jawaban yang diberikan pada soal baik praktek coding maupun soal pilihan berganda.\n",
        "\n",
        "Point-point ini akan Anda kumpulkan dan ke depannya akan menjadi tolak ukur kemajuan belajar Anda, dan juga ke depannya bisa menjadi nilai berharga untuk karir Anda untuk berhubungan dengan partner industri DQLab melalui fitur-fitur yang terus dikembangkan oleh DQLab.\n",
        "\n",
        "Ada beberapa sistem penilaian di DQLab yang sebenarnya terbagi menjadi dua, yaitu:\n",
        "\n",
        "* ***Penilaian Proses Belajar***\n",
        "> Dalam penilaian proses belajar, meskipun seringkali terjadi kesalahan dan skor dipotong, ini tidak boleh dijadikan patokan untuk takut melakukan kesalahan karena pada umumnya perusahaan lebih memperhatikan hasil belajar Anda.\n",
        "* ***Penilaian Mengerjakan Tantangan atau Proyek***\n",
        "> Sementara itu, penilaian mengerjakan tantangan atau proyek didasarkan pada kemampuan Anda untuk menyelesaikan tugas atau proyek yang diminta berdasarkan hasil belajar Anda. Ini yang sebenarnya bernilai dan harus Anda fokuskan setelah menyelesaikan proses belajar di DQLab.\n",
        "\n",
        "Mari kita lihat satu demi satu bagaimana sistem penilaian ini bekerja pada sistem belajar DQLab."
      ],
      "metadata": {
        "id": "XzPdYq_e16qN"
      }
    },
    {
      "cell_type": "markdown",
      "source": [
        "###Code-Based\n",
        "\n",
        "Dalam evaluasi praktek coding, DQLab memiliki dua pendekatan, yaitu code-based dan result-based. Pendekatan code-based mengacu pada evaluasi berdasarkan kode yang dikirimkan ke sistem DQLab, sedangkan pendekatan result-based mengacu pada evaluasi berdasarkan hasil eksekusi kode yang dikirimkan ke sistem DQLab.\n",
        "\n"
      ],
      "metadata": {
        "id": "0eDsRRST2PCc"
      }
    },
    {
      "cell_type": "markdown",
      "source": [
        "###Result-Based\n",
        "\n",
        "Untuk evaluasi result-based maka materi berfokus kepada output yang diharapkan. Bentuk code dengan cara dan algoritma bebas digunakan, yang penting dapat menghasilkan output yang diinginkan."
      ],
      "metadata": {
        "id": "bA4_am1i2nsf"
      }
    },
    {
      "cell_type": "markdown",
      "source": [
        "###Hint atau Petunjuk\n",
        "\n",
        "Hint adalah petunjuk yang dapat Anda gunakan ketika masih gagal mengirimkan jawaban, baik code-based maupun result-based ke sistem DQLab dengan benar."
      ],
      "metadata": {
        "id": "0iy787qq23Ep"
      }
    },
    {
      "cell_type": "markdown",
      "source": [
        "###Quiz\n",
        "\n",
        "* Bisa memiliki satu jawaban saja\n",
        "* Bisa juga beberapa jawaban"
      ],
      "metadata": {
        "id": "cxioSN2V3TKc"
      }
    }
  ]
}
